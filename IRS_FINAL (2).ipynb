{
  "cells": [
    {
      "cell_type": "markdown",
      "id": "22351e55",
      "metadata": {
        "id": "22351e55"
      },
      "source": [
        "# Crawler:"
      ]
    },
    {
      "cell_type": "code",
      "execution_count": 2,
      "id": "ac7bdccb",
      "metadata": {
        "id": "ac7bdccb"
      },
      "outputs": [],
      "source": [
        "import re\n",
        "import requests\n",
        "from bs4 import BeautifulSoup\n",
        "import numpy as np"
      ]
    },
    {
      "cell_type": "code",
      "execution_count": 3,
      "id": "SiIy7l-9YYii",
      "metadata": {
        "colab": {
          "base_uri": "https://localhost:8080/"
        },
        "id": "SiIy7l-9YYii",
        "outputId": "2f6a3884-4d0a-4d63-f860-dea774ad1c22"
      },
      "outputs": [
        {
          "name": "stderr",
          "output_type": "stream",
          "text": [
            "[nltk_data] Downloading package stopwords to /root/nltk_data...\n",
            "[nltk_data]   Unzipping corpora/stopwords.zip.\n",
            "[nltk_data] Downloading package punkt to /root/nltk_data...\n",
            "[nltk_data]   Unzipping tokenizers/punkt.zip.\n",
            "[nltk_data] Downloading package wordnet to /root/nltk_data...\n"
          ]
        },
        {
          "data": {
            "text/plain": [
              "True"
            ]
          },
          "execution_count": 3,
          "metadata": {},
          "output_type": "execute_result"
        }
      ],
      "source": [
        "import nltk\n",
        "nltk.download('stopwords')\n",
        "nltk.download('punkt')\n",
        "nltk.download('wordnet')"
      ]
    },
    {
      "cell_type": "code",
      "execution_count": 4,
      "id": "01897156",
      "metadata": {
        "id": "01897156"
      },
      "outputs": [],
      "source": [
        "from nltk.tokenize import word_tokenize\n",
        "from nltk import WordNetLemmatizer\n",
        "from nltk.corpus import stopwords, wordnet\n",
        "\n",
        "stop_words = stopwords.words(\"english\")"
      ]
    },
    {
      "cell_type": "code",
      "execution_count": 5,
      "id": "2ff7c80c",
      "metadata": {
        "id": "2ff7c80c"
      },
      "outputs": [],
      "source": [
        "class Crawler:\n",
        "    def __init__(self):\n",
        "        self.links_to_visit = []\n",
        "        self.visited_links = []\n",
        "        self.inv_index = dict()\n",
        "        self.tf = dict()\n",
        "        self.df = dict()\n",
        "        self.doc_length = dict()\n",
        "\n",
        "    def get_new_link(self):\n",
        "        current_link = self.links_to_visit.pop()\n",
        "        while (current_link in self.visited_links) and (len(self.links_to_visit) > 0):\n",
        "            current_link = self.links_to_visit.pop()\n",
        "        return current_link\n",
        "\n",
        "\n",
        "    def extract_links(self, content):\n",
        "        all_links = re.findall(r'<a href=\"(https://www.bbc.com/[^\"]+)', content)\n",
        "        self.links_to_visit.extend(all_links)\n",
        "\n",
        "\n",
        "    def find_paragraphs(self, content):\n",
        "        soup = BeautifulSoup(content, 'html.parser')\n",
        "        paragraphs = soup.find_all('p')\n",
        "        headings1 = soup.find_all('h1')\n",
        "        headings2 = soup.find_all('h2')\n",
        "        headings3 = soup.find_all('h3')\n",
        "        headings4 = soup.find_all('h4')\n",
        "        headings5 = soup.find_all('h5')\n",
        "        headings6 = soup.find_all('h6')\n",
        "        text = ''\n",
        "\n",
        "        for headings in [headings1, headings2, headings3, headings4, headings5, headings6]:\n",
        "            for h in headings:\n",
        "                text += h.get_text(separator='\\n') + '\\n'\n",
        "\n",
        "        for p in paragraphs:\n",
        "            text += p.get_text(separator='\\n') + '\\n'\n",
        "\n",
        "        return text\n",
        "\n",
        "\n",
        "    def tf_m(self, term, doc, ln):\n",
        "        tf1 = dict()\n",
        "        l = term + '.' + doc\n",
        "        if l in self.tf.keys():\n",
        "            tf1[l] = self.tf[l]*ln + 1\n",
        "        else:\n",
        "            tf1[l] = 1\n",
        "        self.tf[l] = tf1[l]/ln\n",
        "\n",
        "\n",
        "    def inverted_index(self, text, current_link):\n",
        "        wn_lemmatizer = WordNetLemmatizer()\n",
        "        tokens = word_tokenize(text)\n",
        "        self.doc_length[current_link] = len(tokens)\n",
        "        tok = set()\n",
        "        for t in tokens:\n",
        "            t = t.lower()\n",
        "            if t not in stop_words and t.isalpha():\n",
        "                t = wn_lemmatizer.lemmatize(t)\n",
        "                tok.add(t)\n",
        "                self.tf_m(t, current_link, len(tokens))             #TF\n",
        "                if t in self.inv_index.keys():\n",
        "                    l = self.inv_index[t]\n",
        "                    if current_link not in l:\n",
        "                        l.append(current_link)\n",
        "                elif t not in self.inv_index.keys():\n",
        "                    l = [current_link]\n",
        "                self.inv_index.update({t:l})\n",
        "\n",
        "        #df\n",
        "        for t in tok:\n",
        "            if t in self.df.keys():\n",
        "                self.df[t] += 1\n",
        "            else:\n",
        "                self.df[t] = 1\n",
        "\n",
        "\n",
        "    def crawl(self, start_url, max_links):\n",
        "        self.links_to_visit = [start_url]\n",
        "        while (len(self.links_to_visit) > 0) and (len(self.visited_links) < max_links):\n",
        "            current_link = self.get_new_link()\n",
        "            try:\n",
        "                res = requests.get(current_link)\n",
        "                if res.status_code == 200:\n",
        "                    page_content = res.content\n",
        "                    paragraph = self.find_paragraphs(page_content)\n",
        "                    self.inverted_index(paragraph, current_link)\n",
        "                    self.extract_links(str(page_content))\n",
        "                    self.visited_links.append(current_link)\n",
        "            except Exception as e:\n",
        "                print(f\"Error crawling {current_link}: {e}\")"
      ]
    },
    {
      "cell_type": "markdown",
      "id": "3c1456a6",
      "metadata": {
        "id": "3c1456a6"
      },
      "source": [
        "# Search:"
      ]
    },
    {
      "cell_type": "code",
      "execution_count": 6,
      "id": "-evaJsTtawZl",
      "metadata": {
        "id": "-evaJsTtawZl"
      },
      "outputs": [],
      "source": [
        "def find_docs(term, inv_index):\n",
        "    term = term.lower()\n",
        "    wn_lemmatizer = WordNetLemmatizer()\n",
        "    word = wn_lemmatizer.lemmatize(term)\n",
        "    synset = wordnet.synsets(word)\n",
        "    synonyms = [s.name().split('.')[0] for s in synset]\n",
        "    synonyms = list(set(synonyms))\n",
        "    docs_ids = []\n",
        "    for s in synonyms:\n",
        "        m = inv_index.get(s)\n",
        "        if m:\n",
        "            docs_ids.extend(m)\n",
        "    return docs_ids"
      ]
    },
    {
      "cell_type": "code",
      "execution_count": 7,
      "id": "QAHQhxNkbEOV",
      "metadata": {
        "id": "QAHQhxNkbEOV"
      },
      "outputs": [],
      "source": [
        "def search(term, inv_index):\n",
        "    all_docs = []\n",
        "    if find_docs(term, inv_index):\n",
        "        all_docs.extend(find_docs(term, inv_index))\n",
        "    return all_docs"
      ]
    },
    {
      "cell_type": "markdown",
      "id": "c78440d6",
      "metadata": {
        "id": "c78440d6"
      },
      "source": [
        "# TF_IDF:"
      ]
    },
    {
      "cell_type": "code",
      "execution_count": 8,
      "id": "99b49161",
      "metadata": {
        "id": "99b49161"
      },
      "outputs": [],
      "source": [
        "def tf_idf(term, doc, crawler):\n",
        "    tf = crawler.tf.get(term + '.' + doc)\n",
        "    df = crawler.df.get(term)\n",
        "    if tf and df:\n",
        "        idf = np.log10(len(crawler.inv_index.keys()) / (df + 1))\n",
        "        return tf * idf\n",
        "    else:\n",
        "        return 0"
      ]
    },
    {
      "cell_type": "code",
      "execution_count": 9,
      "id": "SGgNapIXAwVm",
      "metadata": {
        "id": "SGgNapIXAwVm"
      },
      "outputs": [],
      "source": [
        "def sort_tf_idf(term, res_docs, crawler):\n",
        "    tf_idf_t = dict()\n",
        "    for d in res_docs:\n",
        "        tf_idf_t[d] = tf_idf(term, d, crawler)\n",
        "    sorted_dict = dict(sorted(tf_idf_t.items(), key=lambda item: item[1]))\n",
        "    l = list(sorted_dict.keys())\n",
        "    return l"
      ]
    },
    {
      "cell_type": "markdown",
      "id": "CFZhP8KcQts_",
      "metadata": {
        "id": "CFZhP8KcQts_"
      },
      "source": [
        "# Okapi bm25f:"
      ]
    },
    {
      "cell_type": "code",
      "execution_count": 26,
      "id": "iSbiVJ7CQz2n",
      "metadata": {
        "id": "iSbiVJ7CQz2n"
      },
      "outputs": [],
      "source": [
        "def okapi_bm25f(term, doc, crawler, k1, b):\n",
        "    tf = crawler.tf.get(term + '.' + doc)\n",
        "    df = crawler.df.get(term)\n",
        "    if tf and df:\n",
        "        idf = np.log10(len(crawler.inv_index.keys()) / (df + 1))\n",
        "        avg_doc_length = sum(crawler.doc_length.values())/len(crawler.doc_length.keys())\n",
        "        return idf * (tf * (k1 + 1)) / (tf + k1 * (1 - b + b * (crawler.doc_length[doc] / avg_doc_length)))\n",
        "    else:\n",
        "        return 0"
      ]
    },
    {
      "cell_type": "code",
      "execution_count": 11,
      "id": "ItOeOXDIQ3k1",
      "metadata": {
        "id": "ItOeOXDIQ3k1"
      },
      "outputs": [],
      "source": [
        "def search_okapi_bm25f(term, crawler, res_docs, k1=1.5, b=0.75):\n",
        "    # Calculate Okapi BM25F scores for each document\n",
        "    okapi_bm25f_scores = dict()\n",
        "    for d in res_docs:\n",
        "        okapi_bm25f_scores[d] = okapi_bm25f(term, d, crawler, k1, b)\n",
        "\n",
        "    # Sort documents by Okapi BM25F scores in descending order\n",
        "    sorted_docs = sorted(okapi_bm25f_scores.keys(), key=lambda x: okapi_bm25f_scores[x], reverse=True)\n",
        "    return sorted_docs"
      ]
    },
    {
      "cell_type": "markdown",
      "id": "1YG0SCc_A8qK",
      "metadata": {
        "id": "1YG0SCc_A8qK"
      },
      "source": [
        "# Test:"
      ]
    },
    {
      "cell_type": "code",
      "execution_count": 22,
      "id": "CUz-wLAeA-Rm",
      "metadata": {
        "id": "CUz-wLAeA-Rm"
      },
      "outputs": [],
      "source": [
        "crawler = Crawler()\n",
        "crawler.crawl('https://www.bbc.com/news', 40)"
      ]
    },
    {
      "cell_type": "code",
      "execution_count": 23,
      "id": "qdNkMNDsBBVp",
      "metadata": {
        "colab": {
          "base_uri": "https://localhost:8080/"
        },
        "id": "qdNkMNDsBBVp",
        "outputId": "d3f9c7e1-ecdf-4057-b320-032c12328acf"
      },
      "outputs": [
        {
          "data": {
            "text/plain": [
              "['https://www.bbc.com/news/live/world-africa-67745691?src_origin=BBCS_BBC',\n",
              " 'https://www.bbc.com/news/live/uk-politics-67890460?src_origin=BBCS_BBC',\n",
              " 'https://www.bbc.com/sport/live/football/67711240?src_origin=BBCS_BBC',\n",
              " 'https://www.bbc.com/news',\n",
              " 'https://www.bbc.com/culture',\n",
              " 'https://www.bbc.com/reel',\n",
              " 'https://www.bbc.com/news/live/world-africa-67745691?src_origin=BBCS_BBC',\n",
              " 'https://www.bbc.com/video',\n",
              " 'https://www.bbc.com/business',\n",
              " 'https://www.bbc.com/news/live/uk-politics-67890460?src_origin=BBCS_BBC',\n",
              " 'https://www.bbc.com/news/live/uk-politics-67910908?src_origin=BBCS_BBC',\n",
              " 'https://www.bbc.com/innovation',\n",
              " 'https://www.bbc.com/future',\n",
              " 'https://www.bbc.com/travel',\n",
              " 'https://www.bbc.com/reel',\n",
              " 'https://www.bbc.com/future/earth',\n",
              " 'https://www.bbc.com/video',\n",
              " 'https://www.bbc.com/future-planet',\n",
              " 'https://www.bbc.com/culture/article/20231222-moki-cherry-the-overlooked-swedish-artist-who-created-a-soulful-home',\n",
              " 'https://www.bbc.com/future/article/20231229-the-problem-of-thinking-in-straight-lines',\n",
              " 'https://www.bbc.com/news',\n",
              " 'https://www.bbc.com/news/world-africa-18930368',\n",
              " 'https://www.bbc.com/future/article/20231229-the-problem-of-thinking-in-straight-lines',\n",
              " 'https://www.bbc.com/news/live/uk-politics-67890460?src_origin=BBCS_BBC']"
            ]
          },
          "execution_count": 23,
          "metadata": {},
          "output_type": "execute_result"
        }
      ],
      "source": [
        "result = search('question', crawler.inv_index)\n",
        "result"
      ]
    },
    {
      "cell_type": "code",
      "execution_count": 24,
      "id": "rNvr46YVBCnU",
      "metadata": {
        "colab": {
          "base_uri": "https://localhost:8080/"
        },
        "id": "rNvr46YVBCnU",
        "outputId": "ba1f4458-aa84-4671-ead0-4488741bd384"
      },
      "outputs": [
        {
          "data": {
            "text/plain": [
              "['https://www.bbc.com/news/live/world-africa-67745691?src_origin=BBCS_BBC',\n",
              " 'https://www.bbc.com/sport/live/football/67711240?src_origin=BBCS_BBC',\n",
              " 'https://www.bbc.com/culture',\n",
              " 'https://www.bbc.com/reel',\n",
              " 'https://www.bbc.com/video',\n",
              " 'https://www.bbc.com/business',\n",
              " 'https://www.bbc.com/news/live/uk-politics-67910908?src_origin=BBCS_BBC',\n",
              " 'https://www.bbc.com/innovation',\n",
              " 'https://www.bbc.com/future',\n",
              " 'https://www.bbc.com/travel',\n",
              " 'https://www.bbc.com/future/earth',\n",
              " 'https://www.bbc.com/future-planet',\n",
              " 'https://www.bbc.com/culture/article/20231222-moki-cherry-the-overlooked-swedish-artist-who-created-a-soulful-home',\n",
              " 'https://www.bbc.com/news/live/uk-politics-67890460?src_origin=BBCS_BBC',\n",
              " 'https://www.bbc.com/news',\n",
              " 'https://www.bbc.com/future/article/20231229-the-problem-of-thinking-in-straight-lines',\n",
              " 'https://www.bbc.com/news/world-africa-18930368']"
            ]
          },
          "execution_count": 24,
          "metadata": {},
          "output_type": "execute_result"
        }
      ],
      "source": [
        "res2 = sort_tf_idf('question', result, crawler)\n",
        "res2"
      ]
    },
    {
      "cell_type": "code",
      "execution_count": 27,
      "id": "CzF6j0PYBLMi",
      "metadata": {
        "colab": {
          "base_uri": "https://localhost:8080/"
        },
        "id": "CzF6j0PYBLMi",
        "outputId": "18ed9a95-f13d-4416-bc3b-c2995ef45bc0"
      },
      "outputs": [
        {
          "data": {
            "text/plain": [
              "['https://www.bbc.com/news/world-africa-18930368',\n",
              " 'https://www.bbc.com/future/article/20231229-the-problem-of-thinking-in-straight-lines',\n",
              " 'https://www.bbc.com/news',\n",
              " 'https://www.bbc.com/news/live/uk-politics-67890460?src_origin=BBCS_BBC',\n",
              " 'https://www.bbc.com/news/live/world-africa-67745691?src_origin=BBCS_BBC',\n",
              " 'https://www.bbc.com/sport/live/football/67711240?src_origin=BBCS_BBC',\n",
              " 'https://www.bbc.com/culture',\n",
              " 'https://www.bbc.com/reel',\n",
              " 'https://www.bbc.com/video',\n",
              " 'https://www.bbc.com/business',\n",
              " 'https://www.bbc.com/news/live/uk-politics-67910908?src_origin=BBCS_BBC',\n",
              " 'https://www.bbc.com/innovation',\n",
              " 'https://www.bbc.com/future',\n",
              " 'https://www.bbc.com/travel',\n",
              " 'https://www.bbc.com/future/earth',\n",
              " 'https://www.bbc.com/future-planet',\n",
              " 'https://www.bbc.com/culture/article/20231222-moki-cherry-the-overlooked-swedish-artist-who-created-a-soulful-home']"
            ]
          },
          "execution_count": 27,
          "metadata": {},
          "output_type": "execute_result"
        }
      ],
      "source": [
        "res3 = search_okapi_bm25f('question', crawler, result)\n",
        "res3"
      ]
    },
    {
      "cell_type": "markdown",
      "id": "93d623cd",
      "metadata": {
        "id": "93d623cd"
      },
      "source": [
        "# UI:"
      ]
    },
    {
      "cell_type": "code",
      "execution_count": null,
      "id": "Ygj7RQwWZGSo",
      "metadata": {
        "colab": {
          "base_uri": "https://localhost:8080/"
        },
        "id": "Ygj7RQwWZGSo",
        "outputId": "46dbfcd6-d17c-43ab-a27c-a156075d2f8e"
      },
      "outputs": [
        {
          "name": "stdout",
          "output_type": "stream",
          "text": [
            "Collecting PySimpleGUI\n",
            "  Downloading PySimpleGUI-4.60.5-py3-none-any.whl (512 kB)\n",
            "\u001b[?25l     \u001b[90m━━━━━━━━━━━━━━━━━━━━━━━━━━━━━━━━━━━━━━━━\u001b[0m \u001b[32m0.0/512.7 kB\u001b[0m \u001b[31m?\u001b[0m eta \u001b[36m-:--:--\u001b[0m\r\u001b[2K     \u001b[91m━━━━━━━━━\u001b[0m\u001b[91m╸\u001b[0m\u001b[90m━━━━━━━━━━━━━━━━━━━━━━━━━━━━━━\u001b[0m \u001b[32m122.9/512.7 kB\u001b[0m \u001b[31m3.4 MB/s\u001b[0m eta \u001b[36m0:00:01\u001b[0m\r\u001b[2K     \u001b[91m━━━━━━━━━━━━━━━━━━━━━━━━━━━━━━━━━━━━━━━\u001b[0m\u001b[91m╸\u001b[0m \u001b[32m512.0/512.7 kB\u001b[0m \u001b[31m7.8 MB/s\u001b[0m eta \u001b[36m0:00:01\u001b[0m\r\u001b[2K     \u001b[90m━━━━━━━━━━━━━━━━━━━━━━━━━━━━━━━━━━━━━━━━\u001b[0m \u001b[32m512.7/512.7 kB\u001b[0m \u001b[31m6.8 MB/s\u001b[0m eta \u001b[36m0:00:00\u001b[0m\n",
            "\u001b[?25hInstalling collected packages: PySimpleGUI\n",
            "Successfully installed PySimpleGUI-4.60.5\n"
          ]
        }
      ],
      "source": [
        "pip install PySimpleGUI"
      ]
    },
    {
      "cell_type": "code",
      "execution_count": null,
      "id": "f9568b84",
      "metadata": {
        "id": "f9568b84"
      },
      "outputs": [],
      "source": [
        "import PySimpleGUI as sg\n",
        "\n",
        "sg.theme('LightGrey1')\n",
        "\n",
        "layout = [\n",
        "    [sg.Text('Enter URL:'), sg.InputText(key='url'), sg.Button('Crawl')],\n",
        "    [sg.Text('Visited Links:')],\n",
        "    [sg.Multiline(size=(65, 10), key='output', background_color='white', autoscroll=True)],\n",
        "    [sg.Text('Search Word:'), sg.InputText(key='search_word'), sg.Button('Search')],\n",
        "    [sg.Radio('None', \"RADIO1\", key='radio1', default=True),\n",
        "     sg.Radio('tf_idf', \"RADIO1\", key='radio2'),\n",
        "     sg.Radio('okapi_bm25f', \"RADIO1\", key='radio3')],\n",
        "    [sg.Text('Search Result:')],\n",
        "    [sg.Multiline(size=(65, 10), key='search_result', background_color='white', autoscroll=True)],\n",
        "    [sg.Button('Exit')]\n",
        "]\n",
        "\n",
        "window = sg.Window('Web Crawler', layout)\n",
        "\n",
        "\n",
        "while True:\n",
        "    event, values = window.read()\n",
        "    if event in (sg.WIN_CLOSED, 'Exit'):\n",
        "        break\n",
        "\n",
        "    elif event == 'Crawl':\n",
        "        url = values['url']\n",
        "        if url.strip():\n",
        "            try:\n",
        "                crawler = Crawler()\n",
        "                crawler.crawl(url, 40)\n",
        "                window['output'].update('\\n'.join(crawler.visited_links))\n",
        "            except Exception as e:\n",
        "                sg.popup_error(f\"Error while crawling: {e}\")\n",
        "        else:\n",
        "            sg.popup_error(\"Please enter a valid URL.\")\n",
        "\n",
        "    elif event == 'Search':\n",
        "        search_word = values['search_word']\n",
        "        if search_word.strip():\n",
        "            try:\n",
        "                result = search(search_word, crawler.inv_index)\n",
        "\n",
        "                if values['radio1']:\n",
        "                    window['search_result'].update('\\n'.join(result))\n",
        "                elif values['radio2']:\n",
        "                    res2 = sort_tf_idf(search_word, result, crawler)\n",
        "                    window['search_result'].update('\\n'.join(res2))\n",
        "                elif values['radio3']:\n",
        "                    res3 = search_okapi_bm25f(search_word, crawler, result)\n",
        "                    window['search_result'].update('\\n'.join(res3))\n",
        "            except Exception as e:\n",
        "                sg.popup_error(f\"Error while searching: {e}\")\n",
        "        else:\n",
        "            sg.popup_error(\"Please enter a search word.\")\n",
        "\n",
        "window.close()"
      ]
    },
    {
      "cell_type": "code",
      "execution_count": null,
      "id": "bc7fd1f0",
      "metadata": {
        "id": "bc7fd1f0"
      },
      "outputs": [],
      "source": []
    }
  ],
  "metadata": {
    "colab": {
      "provenance": []
    },
    "kernelspec": {
      "display_name": "Python 3 (ipykernel)",
      "language": "python",
      "name": "python3"
    },
    "language_info": {
      "codemirror_mode": {
        "name": "ipython",
        "version": 3
      },
      "file_extension": ".py",
      "mimetype": "text/x-python",
      "name": "python",
      "nbconvert_exporter": "python",
      "pygments_lexer": "ipython3",
      "version": "3.11.3"
    }
  },
  "nbformat": 4,
  "nbformat_minor": 5
}
